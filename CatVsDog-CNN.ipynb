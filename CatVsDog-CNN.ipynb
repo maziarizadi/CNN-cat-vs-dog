{
 "cells": [
  {
   "cell_type": "code",
   "execution_count": 1,
   "metadata": {},
   "outputs": [],
   "source": [
    "import pandas as pd\n",
    "import numpy as np\n",
    "import matplotlib.pyplot as plt\n",
    "import random\n",
    "from sklearn.model_selection import train_test_split\n",
    "# load all images in a directory\n",
    "from os import listdir\n",
    "from matplotlib import image"
   ]
  },
  {
   "cell_type": "code",
   "execution_count": 2,
   "metadata": {},
   "outputs": [
    {
     "name": "stderr",
     "output_type": "stream",
     "text": [
      "Using TensorFlow backend.\n"
     ]
    }
   ],
   "source": [
    "from keras import layers\n",
    "from keras import models\n",
    "from keras import utils\n",
    "from keras import optimizers"
   ]
  },
  {
   "cell_type": "code",
   "execution_count": null,
   "metadata": {},
   "outputs": [],
   "source": [
    "# from __future__ import absolute_import, division, print_function, unicode_literals"
   ]
  },
  {
   "cell_type": "code",
   "execution_count": 6,
   "metadata": {},
   "outputs": [
    {
     "name": "stdout",
     "output_type": "stream",
     "text": [
      "['.DS_Store', 'sampleSubmission.csv', 'test1', 'test1.zip', 'train', 'train.zip']\n"
     ]
    }
   ],
   "source": [
    "print(listdir('/Users/maziarizadi/Google Drive/alpha-data-science/Kaggle/data/dogs-vs-cats'))"
   ]
  },
  {
   "cell_type": "code",
   "execution_count": null,
   "metadata": {},
   "outputs": [],
   "source": []
  },
  {
   "cell_type": "code",
   "execution_count": null,
   "metadata": {},
   "outputs": [],
   "source": [
    "# load all images in a directory\n",
    "loaded_images = list()\n",
    "for filename in listdir('/Users/maziarizadi/Google Drive/alpha-data-science/Kaggle/data/dogs-vs-cats/train'):\n",
    "\t# load image\n",
    "\timg_data = image.imread('/Users/maziarizadi/Google Drive/alpha-data-science/Kaggle/data/dogs-vs-cats/train/' + filename)\n",
    "\t# store loaded image\n",
    "\tloaded_images.append(img_data)\n",
    "\tprint('> loaded %s %s' % (filename, img_data.shape))"
   ]
  },
  {
   "cell_type": "code",
   "execution_count": null,
   "metadata": {},
   "outputs": [],
   "source": [
    "model = models.Sequential()\n",
    "\n",
    "model.add(layers.Conv2D(32,(3,3),activation='relu', padding = 'same', name='conv_1', input_shape= (150,150,3)))\n",
    "model.add(layers.MaxPooling2D((2,2), name='maxpool_1'))\n",
    "\n",
    "model.add(layers.Conv2D(64,(3,3),activation='relu', padding = 'same', name='conv_2', input_shape= (150,150,3)))\n",
    "model.add(layers.MaxPooling2D((2,2), name='maxpool_2'))\n",
    "\n",
    "model.add(layers.Conv2D(128,(3,3),activation='relu', padding = 'same', name='conv_3', input_shape= (150,150,3)))\n",
    "model.add(layers.MaxPooling2D((2,2), name='maxpool_3'))\n",
    "\n",
    "model.add(layers.Conv2D(128,(3,3),activation='relu', padding = 'same', name='conv_4', input_shape= (150,150,3)))\n",
    "model.add(layers.MaxPooling2D((2,2), name='maxpool_4'))\n",
    "\n",
    "model.add(layers.Flatten())\n",
    "\n",
    "model.add(layers.Dropout(.5))\n",
    "\n",
    "model.add(layers.Dense(512, activation='relu', name='dense_1'))\n",
    "model.add(layers.Dense(128, activation='relu', name='dense_2'))\n",
    "model.add(layers.Dense(1, activation='relu', name='output'))"
   ]
  },
  {
   "cell_type": "code",
   "execution_count": null,
   "metadata": {
    "scrolled": true
   },
   "outputs": [],
   "source": [
    "# # load all images in a directory\n",
    "# loaded_images = list()\n",
    "\n",
    "# for filename in listdir('/Users/maziarizadi/Google Drive/alpha-data-science/Kaggle/data/dogs-vs-cats/train'):\n",
    "#     # load image\n",
    "#     img_data = image.imread('/Users/maziarizadi/Google Drive/alpha-data-science/Kaggle/data/dogs-vs-cats/train/' + filename)\n",
    "#     # store loaded image\n",
    "#     loaded_images.append(img_data)\n",
    "#     with open('data.txt',\"w\") as f:\n",
    "#         for i in loaded_images:\n",
    "#             f.write(f\"{filename[0:3]}:{img_data}\\n\")\n",
    "# #     break"
   ]
  },
  {
   "cell_type": "code",
   "execution_count": null,
   "metadata": {
    "scrolled": true
   },
   "outputs": [],
   "source": [
    "for x in list(train_images)[0:1]:\n",
    "    print (\"{}, {} \".format(x,  train_images[x]))"
   ]
  },
  {
   "cell_type": "code",
   "execution_count": null,
   "metadata": {},
   "outputs": [],
   "source": []
  },
  {
   "cell_type": "code",
   "execution_count": null,
   "metadata": {},
   "outputs": [],
   "source": [
    "'''\n",
    "Creating dataframe by converting dict to list of items\n",
    "'''\n",
    "data = pd.DataFrame(list(train_images.items()))"
   ]
  },
  {
   "cell_type": "code",
   "execution_count": null,
   "metadata": {
    "scrolled": true
   },
   "outputs": [],
   "source": [
    "type(data)"
   ]
  },
  {
   "cell_type": "code",
   "execution_count": null,
   "metadata": {},
   "outputs": [],
   "source": [
    "data.shape"
   ]
  },
  {
   "cell_type": "code",
   "execution_count": null,
   "metadata": {},
   "outputs": [],
   "source": [
    "data.describe()"
   ]
  },
  {
   "cell_type": "code",
   "execution_count": null,
   "metadata": {},
   "outputs": [],
   "source": [
    "data.head()"
   ]
  },
  {
   "cell_type": "code",
   "execution_count": null,
   "metadata": {},
   "outputs": [],
   "source": []
  },
  {
   "cell_type": "code",
   "execution_count": null,
   "metadata": {},
   "outputs": [],
   "source": []
  },
  {
   "cell_type": "code",
   "execution_count": null,
   "metadata": {},
   "outputs": [],
   "source": [
    "mapping = {dog: 0, cat: 1}\n",
    "\n",
    "data.replace({dog: mapping, cat: mapping})"
   ]
  },
  {
   "cell_type": "code",
   "execution_count": null,
   "metadata": {},
   "outputs": [],
   "source": [
    "model.compile(loss='binary_crossentropy',optimizer=optimizers.RMSprop(lr=1e-4),metrics=['acc'])"
   ]
  },
  {
   "cell_type": "code",
   "execution_count": null,
   "metadata": {},
   "outputs": [],
   "source": []
  }
 ],
 "metadata": {
  "kernelspec": {
   "display_name": "Python 3",
   "language": "python",
   "name": "python3"
  },
  "language_info": {
   "codemirror_mode": {
    "name": "ipython",
    "version": 3
   },
   "file_extension": ".py",
   "mimetype": "text/x-python",
   "name": "python",
   "nbconvert_exporter": "python",
   "pygments_lexer": "ipython3",
   "version": "3.7.4"
  }
 },
 "nbformat": 4,
 "nbformat_minor": 2
}
